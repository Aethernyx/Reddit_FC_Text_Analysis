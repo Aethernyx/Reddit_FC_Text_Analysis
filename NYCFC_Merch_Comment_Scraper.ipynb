{
 "cells": [
  {
   "cell_type": "code",
   "execution_count": null,
   "metadata": {
    "colab": {
     "base_uri": "https://localhost:8080/",
     "height": 207
    },
    "colab_type": "code",
    "id": "svHptMxVQl0C",
    "outputId": "4258e50c-3423-4507-f0e7-0f582c7d6412"
   },
   "outputs": [
    {
     "name": "stdout",
     "output_type": "stream",
     "text": [
      "Requirement already satisfied: praw in /usr/local/lib/python3.6/dist-packages (7.1.0)\n",
      "Requirement already satisfied: websocket-client>=0.54.0 in /usr/local/lib/python3.6/dist-packages (from praw) (0.57.0)\n",
      "Requirement already satisfied: prawcore<2.0,>=1.3.0 in /usr/local/lib/python3.6/dist-packages (from praw) (1.5.0)\n",
      "Requirement already satisfied: update-checker>=0.17 in /usr/local/lib/python3.6/dist-packages (from praw) (0.18.0)\n",
      "Requirement already satisfied: six in /usr/local/lib/python3.6/dist-packages (from websocket-client>=0.54.0->praw) (1.15.0)\n",
      "Requirement already satisfied: requests<3.0,>=2.6.0 in /usr/local/lib/python3.6/dist-packages (from prawcore<2.0,>=1.3.0->praw) (2.23.0)\n",
      "Requirement already satisfied: urllib3!=1.25.0,!=1.25.1,<1.26,>=1.21.1 in /usr/local/lib/python3.6/dist-packages (from requests<3.0,>=2.6.0->prawcore<2.0,>=1.3.0->praw) (1.24.3)\n",
      "Requirement already satisfied: idna<3,>=2.5 in /usr/local/lib/python3.6/dist-packages (from requests<3.0,>=2.6.0->prawcore<2.0,>=1.3.0->praw) (2.10)\n",
      "Requirement already satisfied: chardet<4,>=3.0.2 in /usr/local/lib/python3.6/dist-packages (from requests<3.0,>=2.6.0->prawcore<2.0,>=1.3.0->praw) (3.0.4)\n",
      "Requirement already satisfied: certifi>=2017.4.17 in /usr/local/lib/python3.6/dist-packages (from requests<3.0,>=2.6.0->prawcore<2.0,>=1.3.0->praw) (2020.6.20)\n"
     ]
    }
   ],
   "source": [
    "!pip3 install praw"
   ]
  },
  {
   "cell_type": "code",
   "execution_count": null,
   "metadata": {
    "colab": {},
    "colab_type": "code",
    "id": "2_VQw3cCQakk"
   },
   "outputs": [],
   "source": [
    "import numpy as np\n",
    "import pandas as pd\n",
    "import matplotlib.pyplot as plt\n",
    "import praw\n",
    "from tqdm import tqdm\n",
    "from datetime import datetime\n",
    "import os\n",
    "from google.colab import drive"
   ]
  },
  {
   "cell_type": "code",
   "execution_count": null,
   "metadata": {
    "colab": {},
    "colab_type": "code",
    "id": "cLz_-pXcQecw"
   },
   "outputs": [],
   "source": [
    "client_id = 'id'\n",
    "client_secret = 'secret'\n",
    "username = 'username'\n",
    "password = 'password'\n",
    "user_agent = 'user_agent'"
   ]
  },
  {
   "cell_type": "code",
   "execution_count": null,
   "metadata": {
    "colab": {},
    "colab_type": "code",
    "id": "hL1LcKZ6Qo_P"
   },
   "outputs": [],
   "source": [
    "reddit = praw.Reddit(client_id=client_id, client_secret=client_secret, user_agent=user_agent,\n",
    "                     username=username, password=password)\n",
    "\n",
    "nycfc_subreddit = reddit.subreddit('NYCFC')"
   ]
  },
  {
   "cell_type": "code",
   "execution_count": null,
   "metadata": {
    "colab": {},
    "colab_type": "code",
    "id": "IMsBexbWQqzT"
   },
   "outputs": [],
   "source": [
    "post_title = []\n",
    "comments = []\n",
    "date_time = []\n",
    "comment_type = []\n",
    "\n",
    "merch_types = ['jersey', 'jacket', 'pants', 'accessories', 'shirt', 'sweater', 'merch', 'merchandise',\n",
    "              'apparel']\n",
    "\n",
    "post_flair_widget = 'Merch'\n",
    "\n",
    "for submission in nycfc_subreddit.search('flair:{}'.format(post_flair_widget), sort='new'):\n",
    "  post_comments = submission.comments\n",
    "  for comment in post_comments:\n",
    "    post_title.append(submission.title)\n",
    "    comments.append(comment.body)\n",
    "    utc_time = comment.created_utc\n",
    "    date_time.append(datetime.fromtimestamp(utc_time))\n",
    "    merch = []\n",
    "    for merch_type in merch_types:\n",
    "      if merch_type in comment.body.lower():\n",
    "        merch.append(merch_type)\n",
    "    comment_type.append(merch)\n",
    "\n",
    "    if len(comment.replies) > 0:\n",
    "      replies = comment.replies\n",
    "      for reply in replies:\n",
    "        post_title.append(submission.title)\n",
    "        comments.append(reply.body)\n",
    "        reply_utc_time = reply.created_utc\n",
    "        date_time.append(datetime.fromtimestamp(reply_utc_time))\n",
    "        merch = []\n",
    "        for merch_type in merch_types:\n",
    "          if merch_type in reply.body.lower():\n",
    "            merch.append(merch_type)\n",
    "        comment_type.append(merch)"
   ]
  },
  {
   "cell_type": "code",
   "execution_count": null,
   "metadata": {
    "colab": {},
    "colab_type": "code",
    "id": "-bmELkJUn3A_"
   },
   "outputs": [],
   "source": [
    "df = pd.DataFrame()\n",
    "df['post_title'] = post_title\n",
    "df['comments'] = comments\n",
    "df['date_time'] = date_time\n",
    "df['comment_type'] = comment_type"
   ]
  },
  {
   "cell_type": "code",
   "execution_count": null,
   "metadata": {
    "colab": {},
    "colab_type": "code",
    "id": "3b9SHajhpQE-"
   },
   "outputs": [],
   "source": [
    "df['comment_type'] = df['comment_type'].apply(lambda x: ', '.join(x))"
   ]
  },
  {
   "cell_type": "code",
   "execution_count": null,
   "metadata": {
    "colab": {
     "base_uri": "https://localhost:8080/",
     "height": 204
    },
    "colab_type": "code",
    "id": "Pvgv9UsexcO1",
    "outputId": "fce45b8a-2405-4930-b2d0-3602b38a708f"
   },
   "outputs": [
    {
     "data": {
      "text/html": [
       "<div>\n",
       "<style scoped>\n",
       "    .dataframe tbody tr th:only-of-type {\n",
       "        vertical-align: middle;\n",
       "    }\n",
       "\n",
       "    .dataframe tbody tr th {\n",
       "        vertical-align: top;\n",
       "    }\n",
       "\n",
       "    .dataframe thead th {\n",
       "        text-align: right;\n",
       "    }\n",
       "</style>\n",
       "<table border=\"1\" class=\"dataframe\">\n",
       "  <thead>\n",
       "    <tr style=\"text-align: right;\">\n",
       "      <th></th>\n",
       "      <th>post_title</th>\n",
       "      <th>comments</th>\n",
       "      <th>date_time</th>\n",
       "      <th>comment_type</th>\n",
       "    </tr>\n",
       "  </thead>\n",
       "  <tbody>\n",
       "    <tr>\n",
       "      <th>0</th>\n",
       "      <td>This is a pretty nice Derby Scarf. Inaccurate ...</td>\n",
       "      <td>why is it inaccurate?</td>\n",
       "      <td>2020-08-18 14:06:54</td>\n",
       "      <td></td>\n",
       "    </tr>\n",
       "    <tr>\n",
       "      <th>1</th>\n",
       "      <td>This is a pretty nice Derby Scarf. Inaccurate ...</td>\n",
       "      <td>We sure aren’t playing in The Bronx this year.</td>\n",
       "      <td>2020-08-18 14:45:41</td>\n",
       "      <td></td>\n",
       "    </tr>\n",
       "    <tr>\n",
       "      <th>2</th>\n",
       "      <td>This is a pretty nice Derby Scarf. Inaccurate ...</td>\n",
       "      <td>Do you know if all STH get them?</td>\n",
       "      <td>2020-08-18 14:36:16</td>\n",
       "      <td></td>\n",
       "    </tr>\n",
       "    <tr>\n",
       "      <th>3</th>\n",
       "      <td>This is a pretty nice Derby Scarf. Inaccurate ...</td>\n",
       "      <td>I would guess so but I honestly don’t know.</td>\n",
       "      <td>2020-08-18 14:46:09</td>\n",
       "      <td></td>\n",
       "    </tr>\n",
       "    <tr>\n",
       "      <th>4</th>\n",
       "      <td>This is a pretty nice Derby Scarf. Inaccurate ...</td>\n",
       "      <td>I have a Fedex I'm not expecting arriving some...</td>\n",
       "      <td>2020-08-18 15:33:19</td>\n",
       "      <td></td>\n",
       "    </tr>\n",
       "  </tbody>\n",
       "</table>\n",
       "</div>"
      ],
      "text/plain": [
       "                                          post_title  ... comment_type\n",
       "0  This is a pretty nice Derby Scarf. Inaccurate ...  ...             \n",
       "1  This is a pretty nice Derby Scarf. Inaccurate ...  ...             \n",
       "2  This is a pretty nice Derby Scarf. Inaccurate ...  ...             \n",
       "3  This is a pretty nice Derby Scarf. Inaccurate ...  ...             \n",
       "4  This is a pretty nice Derby Scarf. Inaccurate ...  ...             \n",
       "\n",
       "[5 rows x 4 columns]"
      ]
     },
     "execution_count": 62,
     "metadata": {
      "tags": []
     },
     "output_type": "execute_result"
    }
   ],
   "source": [
    "df.head()"
   ]
  },
  {
   "cell_type": "code",
   "execution_count": null,
   "metadata": {
    "colab": {
     "base_uri": "https://localhost:8080/",
     "height": 34
    },
    "colab_type": "code",
    "id": "7-wjNlKROVZ1",
    "outputId": "2c14a141-6710-4ac0-97e7-5349d1ca316f"
   },
   "outputs": [
    {
     "name": "stdout",
     "output_type": "stream",
     "text": [
      "Mounted at /content/drive\n"
     ]
    }
   ],
   "source": [
    "drive.mount('/content/drive')"
   ]
  },
  {
   "cell_type": "code",
   "execution_count": null,
   "metadata": {
    "colab": {},
    "colab_type": "code",
    "id": "R6gIY0c4PSUG"
   },
   "outputs": [],
   "source": [
    "os.chdir('/content/drive/My Drive/Google_Colab/NYCFC_Merch_Sentiment_Analysis')\n",
    "\n",
    "df.to_csv('df.csv')"
   ]
  }
 ],
 "metadata": {
  "accelerator": "GPU",
  "colab": {
   "collapsed_sections": [],
   "name": "NYCFC_Merch_Comment_Scraper.ipynb",
   "provenance": []
  },
  "kernelspec": {
   "display_name": "Python 3",
   "language": "python",
   "name": "python3"
  },
  "language_info": {
   "codemirror_mode": {
    "name": "ipython",
    "version": 3
   },
   "file_extension": ".py",
   "mimetype": "text/x-python",
   "name": "python",
   "nbconvert_exporter": "python",
   "pygments_lexer": "ipython3",
   "version": "3.8.0"
  }
 },
 "nbformat": 4,
 "nbformat_minor": 1
}
