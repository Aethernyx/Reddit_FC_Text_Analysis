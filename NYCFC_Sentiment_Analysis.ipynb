{
 "cells": [
  {
   "cell_type": "code",
   "execution_count": null,
   "metadata": {
    "colab": {},
    "colab_type": "code",
    "id": "0fsr0U1yRqiF"
   },
   "outputs": [],
   "source": [
    "import numpy as np\n",
    "import pandas as pd\n",
    "import matplotlib.pyplot as plt\n",
    "import os\n",
    "import re\n",
    "\n",
    "\n",
    "from google.colab import drive\n",
    "\n",
    "import tensorflow as tf\n",
    "import tensorflow_datasets as tfds\n",
    "from sklearn.feature_extraction.text import CountVectorizer\n",
    "from tensorflow.keras.preprocessing import text"
   ]
  },
  {
   "cell_type": "code",
   "execution_count": null,
   "metadata": {
    "colab": {
     "base_uri": "https://localhost:8080/",
     "height": 34
    },
    "colab_type": "code",
    "id": "rhy_BCIYR1eW",
    "outputId": "a14ab725-e9e4-43aa-84a0-6583bb55e4f5"
   },
   "outputs": [
    {
     "name": "stdout",
     "output_type": "stream",
     "text": [
      "Mounted at /content/drive\n"
     ]
    }
   ],
   "source": [
    "drive.mount('/content/drive')"
   ]
  },
  {
   "cell_type": "code",
   "execution_count": null,
   "metadata": {
    "colab": {},
    "colab_type": "code",
    "id": "4lE6jBWASCmb"
   },
   "outputs": [],
   "source": [
    "folder_path = '/content/drive/My Drive/Google_Colab/NYCFC_Merch_Sentiment_Analysis'\n",
    "os.chdir(folder_path)"
   ]
  },
  {
   "cell_type": "code",
   "execution_count": null,
   "metadata": {
    "colab": {},
    "colab_type": "code",
    "id": "gvVW9WqBSPnq"
   },
   "outputs": [],
   "source": [
    "model = tf.keras.models.load_model('CNN_Text_Model')"
   ]
  },
  {
   "cell_type": "code",
   "execution_count": null,
   "metadata": {
    "colab": {
     "base_uri": "https://localhost:8080/",
     "height": 204
    },
    "colab_type": "code",
    "id": "67wpEQdlSlgF",
    "outputId": "8f703294-2838-410c-89ca-0714989ccd4b"
   },
   "outputs": [
    {
     "data": {
      "text/html": [
       "<div>\n",
       "<style scoped>\n",
       "    .dataframe tbody tr th:only-of-type {\n",
       "        vertical-align: middle;\n",
       "    }\n",
       "\n",
       "    .dataframe tbody tr th {\n",
       "        vertical-align: top;\n",
       "    }\n",
       "\n",
       "    .dataframe thead th {\n",
       "        text-align: right;\n",
       "    }\n",
       "</style>\n",
       "<table border=\"1\" class=\"dataframe\">\n",
       "  <thead>\n",
       "    <tr style=\"text-align: right;\">\n",
       "      <th></th>\n",
       "      <th>post_title</th>\n",
       "      <th>comments</th>\n",
       "      <th>date_time</th>\n",
       "      <th>comment_type</th>\n",
       "    </tr>\n",
       "  </thead>\n",
       "  <tbody>\n",
       "    <tr>\n",
       "      <th>0</th>\n",
       "      <td>This is a pretty nice Derby Scarf. Inaccurate ...</td>\n",
       "      <td>why is it inaccurate?</td>\n",
       "      <td>2020-08-18 14:06:54</td>\n",
       "      <td>NaN</td>\n",
       "    </tr>\n",
       "    <tr>\n",
       "      <th>1</th>\n",
       "      <td>This is a pretty nice Derby Scarf. Inaccurate ...</td>\n",
       "      <td>We sure aren’t playing in The Bronx this year.</td>\n",
       "      <td>2020-08-18 14:45:41</td>\n",
       "      <td>NaN</td>\n",
       "    </tr>\n",
       "    <tr>\n",
       "      <th>2</th>\n",
       "      <td>This is a pretty nice Derby Scarf. Inaccurate ...</td>\n",
       "      <td>Do you know if all STH get them?</td>\n",
       "      <td>2020-08-18 14:36:16</td>\n",
       "      <td>NaN</td>\n",
       "    </tr>\n",
       "    <tr>\n",
       "      <th>3</th>\n",
       "      <td>This is a pretty nice Derby Scarf. Inaccurate ...</td>\n",
       "      <td>I would guess so but I honestly don’t know.</td>\n",
       "      <td>2020-08-18 14:46:09</td>\n",
       "      <td>NaN</td>\n",
       "    </tr>\n",
       "    <tr>\n",
       "      <th>4</th>\n",
       "      <td>This is a pretty nice Derby Scarf. Inaccurate ...</td>\n",
       "      <td>I have a Fedex I'm not expecting arriving some...</td>\n",
       "      <td>2020-08-18 15:33:19</td>\n",
       "      <td>NaN</td>\n",
       "    </tr>\n",
       "  </tbody>\n",
       "</table>\n",
       "</div>"
      ],
      "text/plain": [
       "                                          post_title  ... comment_type\n",
       "0  This is a pretty nice Derby Scarf. Inaccurate ...  ...          NaN\n",
       "1  This is a pretty nice Derby Scarf. Inaccurate ...  ...          NaN\n",
       "2  This is a pretty nice Derby Scarf. Inaccurate ...  ...          NaN\n",
       "3  This is a pretty nice Derby Scarf. Inaccurate ...  ...          NaN\n",
       "4  This is a pretty nice Derby Scarf. Inaccurate ...  ...          NaN\n",
       "\n",
       "[5 rows x 4 columns]"
      ]
     },
     "execution_count": 17,
     "metadata": {
      "tags": []
     },
     "output_type": "execute_result"
    }
   ],
   "source": [
    "df = pd.read_csv('df.csv', index_col=[0])\n",
    "df.head()"
   ]
  },
  {
   "cell_type": "code",
   "execution_count": null,
   "metadata": {
    "colab": {
     "base_uri": "https://localhost:8080/",
     "height": 450
    },
    "colab_type": "code",
    "id": "dDVjOKMuTasW",
    "outputId": "1772b5b3-fe24-4229-e2d8-c84100bc3fd6"
   },
   "outputs": [
    {
     "data": {
      "text/html": [
       "<div>\n",
       "<style scoped>\n",
       "    .dataframe tbody tr th:only-of-type {\n",
       "        vertical-align: middle;\n",
       "    }\n",
       "\n",
       "    .dataframe tbody tr th {\n",
       "        vertical-align: top;\n",
       "    }\n",
       "\n",
       "    .dataframe thead th {\n",
       "        text-align: right;\n",
       "    }\n",
       "</style>\n",
       "<table border=\"1\" class=\"dataframe\">\n",
       "  <thead>\n",
       "    <tr style=\"text-align: right;\">\n",
       "      <th></th>\n",
       "      <th></th>\n",
       "      <th>comments</th>\n",
       "      <th>date_time</th>\n",
       "      <th>comment_type</th>\n",
       "    </tr>\n",
       "    <tr>\n",
       "      <th>post_title</th>\n",
       "      <th></th>\n",
       "      <th></th>\n",
       "      <th></th>\n",
       "      <th></th>\n",
       "    </tr>\n",
       "  </thead>\n",
       "  <tbody>\n",
       "    <tr>\n",
       "      <th rowspan=\"5\" valign=\"top\">This is a pretty nice Derby Scarf. Inaccurate but nice.</th>\n",
       "      <th>0</th>\n",
       "      <td>why is it inaccurate?</td>\n",
       "      <td>2020-08-18 14:06:54</td>\n",
       "      <td>NaN</td>\n",
       "    </tr>\n",
       "    <tr>\n",
       "      <th>1</th>\n",
       "      <td>We sure aren’t playing in The Bronx this year.</td>\n",
       "      <td>2020-08-18 14:45:41</td>\n",
       "      <td>NaN</td>\n",
       "    </tr>\n",
       "    <tr>\n",
       "      <th>2</th>\n",
       "      <td>Do you know if all STH get them?</td>\n",
       "      <td>2020-08-18 14:36:16</td>\n",
       "      <td>NaN</td>\n",
       "    </tr>\n",
       "    <tr>\n",
       "      <th>3</th>\n",
       "      <td>I would guess so but I honestly don’t know.</td>\n",
       "      <td>2020-08-18 14:46:09</td>\n",
       "      <td>NaN</td>\n",
       "    </tr>\n",
       "    <tr>\n",
       "      <th>4</th>\n",
       "      <td>I have a Fedex I'm not expecting arriving some...</td>\n",
       "      <td>2020-08-18 15:33:19</td>\n",
       "      <td>NaN</td>\n",
       "    </tr>\n",
       "    <tr>\n",
       "      <th>...</th>\n",
       "      <th>...</th>\n",
       "      <td>...</td>\n",
       "      <td>...</td>\n",
       "      <td>...</td>\n",
       "    </tr>\n",
       "    <tr>\n",
       "      <th rowspan=\"5\" valign=\"top\">HEADS UP! Jersey Sale At Fanatics.</th>\n",
       "      <th>260</th>\n",
       "      <td>Just so everyone knows, pretty much all sites ...</td>\n",
       "      <td>2018-11-25 16:32:06</td>\n",
       "      <td>jersey, shirt</td>\n",
       "    </tr>\n",
       "    <tr>\n",
       "      <th>261</th>\n",
       "      <td>It looks like the same sale MLSstore.com has b...</td>\n",
       "      <td>2018-11-25 14:31:54</td>\n",
       "      <td>NaN</td>\n",
       "    </tr>\n",
       "    <tr>\n",
       "      <th>262</th>\n",
       "      <td>The grey jerseys are $10 cheaper than on mls s...</td>\n",
       "      <td>2018-11-25 17:07:21</td>\n",
       "      <td>jersey</td>\n",
       "    </tr>\n",
       "    <tr>\n",
       "      <th>263</th>\n",
       "      <td>I'm not sure if this type of thread is allowed...</td>\n",
       "      <td>2018-11-25 14:14:46</td>\n",
       "      <td>jersey</td>\n",
       "    </tr>\n",
       "    <tr>\n",
       "      <th>264</th>\n",
       "      <td>Guys seriously just get the “Players Version” ...</td>\n",
       "      <td>2018-11-25 17:42:35</td>\n",
       "      <td>NaN</td>\n",
       "    </tr>\n",
       "  </tbody>\n",
       "</table>\n",
       "<p>265 rows × 3 columns</p>\n",
       "</div>"
      ],
      "text/plain": [
       "                                                                                                 comments  ...   comment_type\n",
       "post_title                                                                                                 ...               \n",
       "This is a pretty nice Derby Scarf. Inaccurate b... 0                                why is it inaccurate?  ...            NaN\n",
       "                                                   1       We sure aren’t playing in The Bronx this year.  ...            NaN\n",
       "                                                   2                     Do you know if all STH get them?  ...            NaN\n",
       "                                                   3          I would guess so but I honestly don’t know.  ...            NaN\n",
       "                                                   4    I have a Fedex I'm not expecting arriving some...  ...            NaN\n",
       "...                                                                                                   ...  ...            ...\n",
       "HEADS UP! Jersey Sale At Fanatics.                 260  Just so everyone knows, pretty much all sites ...  ...  jersey, shirt\n",
       "                                                   261  It looks like the same sale MLSstore.com has b...  ...            NaN\n",
       "                                                   262  The grey jerseys are $10 cheaper than on mls s...  ...         jersey\n",
       "                                                   263  I'm not sure if this type of thread is allowed...  ...         jersey\n",
       "                                                   264  Guys seriously just get the “Players Version” ...  ...            NaN\n",
       "\n",
       "[265 rows x 3 columns]"
      ]
     },
     "execution_count": 19,
     "metadata": {
      "tags": []
     },
     "output_type": "execute_result"
    }
   ],
   "source": [
    "new_df = df.set_index([df['post_title'], df.index]).drop('post_title', axis=1)\n",
    "new_df"
   ]
  },
  {
   "cell_type": "code",
   "execution_count": null,
   "metadata": {
    "colab": {},
    "colab_type": "code",
    "id": "VOUtUYCBTuWu"
   },
   "outputs": [],
   "source": [
    "def preprocess_text(text):\n",
    "  for sentences in text:\n",
    "    sentences = re.sub('\\n', ' ', sentences)\n",
    "    sentences = re.sub('\\t', ' ', sentences)\n",
    "  \n",
    "  count_vectorizer = CountVectorizer(stop_words='english', lowercase=True,\n",
    "                                     strip_accents='unicode', max_features=10)\n",
    "  \n",
    "  post_words = count_vectorizer.fit_transform(text)\n",
    "  feature_words = count_vectorizer.get_feature_names()\n",
    "  feaure_words = np.asarray(feature_words)\n",
    "  count_list = post_words.toarray().sum(axis=0)\n",
    "  word_counts_df = pd.DataFrame([feature_words, count_list], index=['Words', 'Count'])\n",
    "  word_counts_df = word_counts_df.transpose()\n",
    "  word_counts_df.sort_values('Count', ascending=False, inplace=True)\n",
    "\n",
    "  return word_counts_df, text"
   ]
  },
  {
   "cell_type": "code",
   "execution_count": null,
   "metadata": {
    "colab": {
     "base_uri": "https://localhost:8080/",
     "height": 1000
    },
    "colab_type": "code",
    "id": "3OlncdPqWJ7D",
    "outputId": "93c901e7-c40a-46f8-8abd-557858f0007f"
   },
   "outputs": [
    {
     "name": "stdout",
     "output_type": "stream",
     "text": [
      "This is a pretty nice Derby Scarf. Inaccurate but nice. top ten words\n",
      "     Words Count\n",
      "1     know     2\n",
      "0      ago     1\n",
      "2  playing     1\n",
      "3   refund     1\n",
      "4      sth     1\n",
      "5     sure     1\n",
      "6    think     1\n",
      "7  tickets     1\n",
      "8     time     1\n",
      "9    today     1\n",
      "Adidas 30% off on Gotham Kit top ten words\n",
      "     Words Count\n",
      "1      kit     3\n",
      "3   league     3\n",
      "0   corona     2\n",
      "2     know     2\n",
      "8   people     2\n",
      "9  promote     2\n",
      "4  obvious     1\n",
      "5    order     1\n",
      "6     park     1\n",
      "7    patch     1\n",
      "Are there any NYCFC stops or stores around in NYC? top ten words\n",
      "       Words Count\n",
      "1       pele     3\n",
      "3     soccer     3\n",
      "0       good     2\n",
      "2  selection     2\n",
      "4     square     2\n",
      "8      store     2\n",
      "9      times     2\n",
      "5    stadium     1\n",
      "6       stop     1\n",
      "7   stopping     1\n",
      "Full view of the new Secondary Kit top ten words\n",
      "     Words Count\n",
      "0      new     2\n",
      "7   really     2\n",
      "9     says     2\n",
      "1     nice     1\n",
      "2   number     1\n",
      "3     ones     1\n",
      "4  picture     1\n",
      "5  playing     1\n",
      "6  pushing     1\n",
      "8     rest     1\n",
      "2020 New York City FC jersey - Gotham Kit top ten words\n",
      "    Words Count\n",
      "6    like     6\n",
      "1  adidas     4\n",
      "8     mls     4\n",
      "0    2020     3\n",
      "2     don     3\n",
      "3   https     3\n",
      "4  jersey     3\n",
      "5     kit     3\n",
      "7    look     3\n",
      "9     nyc     3\n",
      "Replica top ten words\n",
      "       Words Count\n",
      "1     colors     2\n",
      "2     orange     2\n",
      "0        90s     1\n",
      "3    primary     1\n",
      "4     refuse     1\n",
      "5  secondary     1\n",
      "6    similar     1\n",
      "7      twimg     1\n",
      "8        use     1\n",
      "9       vibe     1\n",
      "Leaked Away Kit top ten words\n",
      "     Words Count\n",
      "4      kit    12\n",
      "7   orange    11\n",
      "5     like     9\n",
      "2      don     6\n",
      "8  stripes     6\n",
      "0   adidas     5\n",
      "1     away     5\n",
      "3      jpg     4\n",
      "6    looks     4\n",
      "9    think     4\n",
      "2020 Away Kit top ten words\n",
      "      Words Count\n",
      "1      like     3\n",
      "9  template     3\n",
      "0     going     2\n",
      "3       mls     2\n",
      "2     looks     1\n",
      "4      navy     1\n",
      "5      neck     1\n",
      "6      need     1\n",
      "7   neutral     1\n",
      "8      nice     1\n",
      "New 2020 Attire (not jersey) top ten words\n",
      "     Words Count\n",
      "1   jacket     2\n",
      "0     away     1\n",
      "2     know     1\n",
      "3     like     1\n",
      "4       ll     1\n",
      "5     long     1\n",
      "6      new     1\n",
      "7  quarter     1\n",
      "8  similar     1\n",
      "9   travel     1\n",
      "Have a few NYCFC items for sale including the R2D2 t-shirt top ten words\n",
      "        Words Count\n",
      "8       sorry     3\n",
      "9      spoken     3\n",
      "1  interested     2\n",
      "6       shirt     2\n",
      "0      asking     1\n",
      "2        r2d2     1\n",
      "3       santa     1\n",
      "4      secret     1\n",
      "5        sell     1\n",
      "7        size     1\n",
      "At the main team store today if anybody wants to stop by before the match. top ten words\n",
      "          Words Count\n",
      "0          2019     2\n",
      "5       include     2\n",
      "6        jersey     2\n",
      "1  appreciation     1\n",
      "2           day     1\n",
      "3      discount     1\n",
      "4        holder     1\n",
      "7        season     1\n",
      "8           smh     1\n",
      "9        ticket     1\n",
      "Anyone know where in the city I can buy an NYCFC hoodie/sweatshirt/jacket? top ten words\n",
      "       Words Count\n",
      "5      store     2\n",
      "0        565     1\n",
      "1      shirt     1\n",
      "2       shop     1\n",
      "3   sporting     1\n",
      "4    stadium     1\n",
      "6     stores     1\n",
      "7      stuff     1\n",
      "8      today     1\n",
      "9  wednesday     1\n",
      "This man today was on fire, but also would anyone know where I can get this T-shirt? top ten words\n",
      "       Words Count\n",
      "2        rep     3\n",
      "9     ticket     3\n",
      "0  compiling     1\n",
      "1     really     1\n",
      "3       said     1\n",
      "4        say     1\n",
      "5     season     1\n",
      "6      shirt     1\n",
      "7     sounds     1\n",
      "8      thank     1\n",
      "Looking for Match-Day pin from game vs RBNY on August 24 top ten words\n",
      "   Words Count\n",
      "1    did     2\n",
      "2  match     2\n",
      "0    ago     1\n",
      "3    saw     1\n",
      "4   seen     1\n",
      "5   shop     1\n",
      "6  state     1\n",
      "7  swore     1\n",
      "8   text     1\n",
      "9   year     1\n",
      "Been trying to find a real Fitted Cap for awhile, finally found one. It arrived today, thought others would be interested. top ten words\n",
      "     Words Count\n",
      "0    based     1\n",
      "1     nice     1\n",
      "2    orden     1\n",
      "3   person     1\n",
      "4     site     1\n",
      "5    slept     1\n",
      "6  teaneck     1\n",
      "7    thank     1\n",
      "8    timbs     1\n",
      "9     want     1\n",
      "Anyone know places in Manhattan or Brooklyn that sell NYCFC jerseys? top ten words\n",
      "    Words Count\n",
      "1  adidas     2\n",
      "0    46th     1\n",
      "2  modell     1\n",
      "3  pretty     1\n",
      "4   sells     1\n",
      "5   short     1\n",
      "6   store     1\n",
      "7  street     1\n",
      "8   thank     1\n",
      "9  thanks     1\n",
      "Pin Swaps top ten words\n",
      "       Words Count\n",
      "4    looking    13\n",
      "3     island    11\n",
      "6        pin    11\n",
      "8     staten    11\n",
      "2      extra    10\n",
      "5  manhattan    10\n",
      "1   brooklyn     7\n",
      "0      bronx     6\n",
      "7     queens     6\n",
      "9      venmo     5\n",
      "Anyone know where i can find the parley jersey? top ten words\n",
      "   Words Count\n",
      "0  large     1\n",
      "1   sale     1\n",
      "Anywhere to buy a Heber jersey or do I need to do a custom one with his name on it? top ten words\n",
      "      Words Count\n",
      "0    custom     1\n",
      "1  fanatics     1\n",
      "2      need     1\n",
      "3     sells     1\n",
      "4     think     1\n",
      "NYCFC Parley Jerseys are up on Adidas.com (S/M/L) top ten words\n",
      "     Words Count\n",
      "2     know     5\n",
      "3     like     5\n",
      "0   adidas     4\n",
      "1      fit     3\n",
      "4  mediums     3\n",
      "6    small     3\n",
      "7     sold     3\n",
      "8    store     3\n",
      "9     year     3\n",
      "5   season     2\n",
      "Premium STH gift (automatic wine opener) arrived today top ten words\n",
      "       Words Count\n",
      "5    premium     4\n",
      "9       wine     3\n",
      "0       gift     2\n",
      "1     opener     2\n",
      "2  packaging     1\n",
      "3      pirlo     1\n",
      "4       play     1\n",
      "6    preview     1\n",
      "7     pulled     1\n",
      "8      quite     1\n",
      "Upper90 $40 Off Jersey Sale ($100+) top ten words\n",
      "     Words Count\n",
      "0     code     4\n",
      "2   jersey     3\n",
      "3  ordered     3\n",
      "7    store     3\n",
      "9    today     3\n",
      "1     deal     2\n",
      "4    promo     2\n",
      "5      saw     2\n",
      "6  snowday     2\n",
      "8   thanks     2\n",
      "For anyone who was interested in the Mitri jersey, it’s been updated on the MLS store and appears it will contain the correct spelling of his name top ten words\n",
      "    Words Count\n",
      "0     fit     1\n",
      "1     isi     1\n",
      "2  jersey     1\n",
      "3     lol     1\n",
      "2019 Home Jerseys top ten words\n",
      "      Words Count\n",
      "2       com    14\n",
      "4     https     9\n",
      "5     imgur     8\n",
      "6       jpg     8\n",
      "0        32     6\n",
      "3      http     5\n",
      "1  attached     4\n",
      "7       pbs     4\n",
      "8    rehost     4\n",
      "9     twimg     4\n",
      "Adidas no longer making long sleeve jerseys top ten words\n",
      "     Words Count\n",
      "0     2024     2\n",
      "1   adidas     2\n",
      "2  jerseys     2\n",
      "3   league     2\n",
      "4     long     2\n",
      "6   sleeve     2\n",
      "7     soon     2\n",
      "5     lose     1\n",
      "8    trash     1\n",
      "9     wide     1\n",
      "Two Authentic Jerseys For Sale top ten words\n",
      "        Words Count\n",
      "7  interested     3\n",
      "2   available     2\n",
      "4         hey     2\n",
      "9     message     2\n",
      "0         3rd     1\n",
      "1  appreciate     1\n",
      "3     cakeday     1\n",
      "5          hi     1\n",
      "6         hug     1\n",
      "8        just     1\n",
      "2019 NYCFC Travel Hoodie top ten words\n",
      "        Words Count\n",
      "6    official     3\n",
      "1      hoodie     2\n",
      "0    boroughs     1\n",
      "2     needing     1\n",
      "3         new     1\n",
      "4        nice     1\n",
      "5  noticeable     1\n",
      "7        real     1\n",
      "8      really     1\n",
      "9      ruined     1\n",
      "2019 Anthem Jacket Reveal top ten words\n",
      "      Words Count\n",
      "2      gear     4\n",
      "5  official     4\n",
      "0    adidas     3\n",
      "4      like     3\n",
      "6   sleeves     3\n",
      "8     thing     3\n",
      "1  boroughs     2\n",
      "3    jersey     2\n",
      "7      text     2\n",
      "9   wearing     2\n",
      "Saw This On Twitter top ten words\n",
      "    Words Count\n",
      "3     kit     4\n",
      "7  square     4\n",
      "8   think     4\n",
      "9   times     4\n",
      "0    city     3\n",
      "1     day     3\n",
      "2    just     3\n",
      "4    nike     3\n",
      "5     nyc     3\n",
      "6   nycfc     3\n",
      "HEADS UP! Jersey Sale At Fanatics. top ten words\n",
      "   Words Count\n",
      "5    new     7\n",
      "9   york     7\n",
      "1    com     5\n",
      "0   city     4\n",
      "2     fc     4\n",
      "3  https     4\n",
      "4    mls     4\n",
      "6   sale     4\n",
      "7  shirt     4\n",
      "8    www     4\n"
     ]
    }
   ],
   "source": [
    "for post in df.post_title.unique():\n",
    "  print(str(post) + ' top ten words')\n",
    "  print(preprocess_text(df[df['post_title'] == post]['comments'])[0])"
   ]
  },
  {
   "cell_type": "code",
   "execution_count": null,
   "metadata": {
    "colab": {},
    "colab_type": "code",
    "id": "9MEKOL9YYyrC"
   },
   "outputs": [],
   "source": [
    "word_counts, cleaned_text = preprocess_text(new_df['comments'])"
   ]
  },
  {
   "cell_type": "code",
   "execution_count": null,
   "metadata": {
    "colab": {
     "base_uri": "https://localhost:8080/",
     "height": 54
    },
    "colab_type": "code",
    "id": "tpGiJw5Hq9YE",
    "outputId": "b8ff78ff-e612-48d4-aaa7-a6f2c4e729c4"
   },
   "outputs": [
    {
     "name": "stdout",
     "output_type": "stream",
     "text": [
      "{'the': 1, 'a': 2, 'i': 3, 'to': 4, 'it': 5, 'and': 6, 'for': 7, 'is': 8, 'on': 9, 'in': 10, 'this': 11, 'have': 12, 'of': 13, 'but': 14, 'they': 15, 'that': 16, 'if': 17, 'you': 18, 'adidas': 19, 'one': 20, 'be': 21, 'like': 22, 'com': 23, 'kit': 24, 'or': 25, 'so': 26, 'with': 27, 'https': 28, 'not': 29, \"it's\": 30, 'me': 31, 'would': 32, 'are': 33, 'jersey': 34, 'an': 35, 'new': 36, 'get': 37, 'just': 38, 'it’s': 39, 'as': 40, 'we': 41, 'looking': 42, 'know': 43, 'how': 44, 'can': 45, 'at': 46, 'think': 47, 'was': 48, 'good': 49, 'mls': 50, 'i’m': 51, 'orange': 52, 'all': 53, 'from': 54, 'store': 55, 'jpg': 56, 'do': 57, 'got': 58, 'nice': 59, 'looks': 60, 'manhattan': 61, 'pin': 62, \"i'm\": 63, 'some': 64, 'brooklyn': 65, 'still': 66, 'there': 67, 'stripes': 68, 'really': 69, 'out': 70, \"don't\": 71, 'up': 72, 'staten': 73, 'island': 74, 'my': 75, 'more': 76, 'going': 77, 'been': 78, 'city': 79, 'shirt': 80, 'love': 81, 'only': 82, 'these': 83, 'same': 84, 'nycfc': 85, 'extra': 86, 'buy': 87, 'our': 88, 'other': 89, 'york': 90, 'now': 91, 'www': 92, 'away': 93, 'has': 94, 'don’t': 95, 'what': 96, 'will': 97, 'kits': 98, 'people': 99, 'much': 100, 'could': 101, 'anyone': 102, 'also': 103, 'no': 104, 'something': 105, 'imgur': 106, 'why': 107, 'bronx': 108, 'year': 109, 'today': 110, 'queens': 111, 'league': 112, 'about': 113, 'every': 114, 'even': 115, 'thanks': 116, 'look': 117, 'jacket': 118, 'any': 119, 'pbs': 120, 'twimg': 121, 'media': 122, 'off': 123, 'interested': 124, 'because': 125, 'official': 126, 'them': 127, 'way': 128, 'lol': 129, 'soccer': 130, 'times': 131, 'square': 132, 'had': 133, 'shoulder': 134, 'jerseys': 135, 'hate': 136, 'nyc': 137, 'see': 138, 'long': 139, 'person': 140, 'bad': 141, 'last': 142, 'make': 143, 'navy': 144, 'thank': 145, 'least': 146, 'sleeves': 147, '32': 148, 'time': 149, 'should': 150, 'buying': 151, 'already': 152, 'those': 153, 'name': 154, 'your': 155, 'want': 156, 'go': 157, 'wearing': 158, 'says': 159, 'better': 160, 'template': 161, 'many': 162, 'season': 163, 'wish': 164, 'use': 165, 'back': 166, 'large': 167, 'please': 168, 'blue': 169, 'though': 170, \"that's\": 171, \"i'll\": 172, 'authentic': 173, 'ticket': 174, 'day': 175, 't': 176, 'until': 177, 'saw': 178, 'short': 179, 'pins': 180, 'trade': 181, 'venmo': 182, 'willing': 183, 'sale': 184, 'fit': 185, 'fuck': 186, 'code': 187, 'http': 188, 'sleeve': 189, 'fc': 190, 'ago': 191, '2020': 192, 'sold': 193, '00': 194, 'price': 195, 'by': 196, 'stuff': 197, 'their': 198, 'around': 199, 'yes': 200, 'they’re': 201, '3': 202, 'well': 203, 'yeah': 204, 'years': 205, 'may': 206, 'images': 207, 'almost': 208, 'then': 209, 'take': 210, 'definitely': 211, 'bullshit': 212, 'which': 213, 'let': 214, 'us': 215, 'available': 216, 'great': 217, 'first': 218, 'without': 219, 'idk': 220, 'three': 221, 'than': 222, 'need': 223, 'white': 224, 'pretty': 225, 'auto': 226, 'feel': 227, 'very': 228, 'twitter': 229, 'gonna': 230, '2019': 231, 'never': 232, 'match': 233, 'when': 234, 'pm': 235, 'someone': 236, 'fanatics': 237, 'premium': 238, 'nycfcnation': 239, 'attached': 240, 'pic': 241, 'rehost': 242, 'message': 243, 'thing': 244, 'where': 245, 'gear': 246, 'sure': 247, \"can't\": 248, 'too': 249, 'reasons': 250, 'number': 251, 'maybe': 252, 'wear': 253, 'does': 254, 'pele': 255, '5th': 256, 'deleted': 257, 'yankee': 258, 'stadium': 259, 'starting': 260, 'ones': 261, 'trying': 262, 'left': 263, 'were': 264, 'seen': 265, 'rest': 266, 'fact': 267, 'home': 268, 'game': 269, 'iconic': 270, 'fashion': 271, 'made': 272, 'pattern': 273, 'its': 274, 'god': 275, 'said': 276, 'fan': 277, 'cool': 278, 'designs': 279, 'found': 280, 'wow': 281, 'epdpztcx4aioe31': 282, 'format': 283, 'colors': 284, 'different': 285, 'similar': 286, 'into': 287, 'full': 288, 'say': 289, 'change': 290, 'field': 291, 'design': 292, 'needs': 293, '6': 294, 'oh': 295, 'am': 296, 'next': 297, 'amazing': 298, 'everyone': 299, 'big': 300, 'la': 301, 'galaxy': 302, 'ugly': 303, 'ever': 304, 'actually': 305, \"what's\": 306, 'status': 307, 'collar': 308, 'sorry': 309, 'spoken': 310, 'medium': 311, 'who': 312, 'rep': 313, 'did': 314, 'two': 315, 'text': 316, 'location': 317, 'few': 318, 'paypal': 319, 'edit': 320, \"i'd\": 321, 'play': 322, 'free': 323, 'small': 324, 'can’t': 325, 'mediums': 326, 'wine': 327, 'ordered': 328, 'replica': 329, \"doesn't\": 330, '2': 331, 'wait': 332, 'dumb': 333, 'always': 334, 'x200b': 335, 'boroughs': 336, 'nike': 337, 'logo': 338, 'having': 339, 'red': 340, 'bulls': 341, 'vs': 342, 'matchup': 343, 'p': 344, 'aren’t': 345, 'playing': 346, 'sth': 347, 'guess': 348, 'honestly': 349, 'weeks': 350, 'else': 351, 'corona': 352, '¯': 353, 'expensive': 354, 'promote': 355, 'customized': 356, 'places': 357, 'mine': 358, 'yet': 359, 'cheaper': 360, 'selection': 361, 'thinking': 362, \"you're\": 363, 'area': 364, 'stop': 365, 'world': 366, 'flagship': 367, '565': 368, 'ave': 369, 'upper': 370, '90': 371, 'mentioned': 372, 'above': 373, 'limited': 374, 'down': 375, 'picture': 376, 'imo': 377, 'before': 378, \"we'll\": 379, 'team': 380, 'bridge': 381, 'while': 382, 'ok': 383, 'called': 384, 'inspiration': 385, 'point': 386, 'quite': 387, 'damn': 388, 'jackets': 389, 'midtown': 390, 'looked': 391, 'huge': 392, 'probably': 393, 'meh': 394, \"they're\": 395, 'article': 396, 'below': 397, 'inquirer': 398, 'inter': 399, 'miami': 400, 'philadelphia': 401, 'union': 402, '20200206': 403, 'html': 404, 'over': 405, 'secondary': 406, 'fine': 407, 'getting': 408, 'boring': 409, \"i've\": 410, \"couldn't\": 411, 'horrible': 412, 'identical': 413, 'incredible': 414, 'little': 415, 'pop': 416, 'cant': 417, '10': 418, '1': 419, 'third': 420, 'cup': 421, 'anything': 422, 'i’ll': 423, 'came': 424, 'far': 425, 'disappointed': 426, 'near': 427, 'color': 428, 'training': 429, 'reminds': 430, 'overall': 431, 'terrible': 432, 'assets': 433, 'w': 434, '600': 435, 'f': 436, 'q': 437, '5d2587f4f08d4fc283a3a9ae012ed68d': 438, '9366': 439, 'dp4838': 440, 'line': 441, \"won't\": 442, 'enjoy': 443, 'version': 444, 'based': 445, 'source': 446, 'pictured': 447, 'size': 448, 'sell': 449, 'sunday': 450, 'depending': 451, 'include': 452, 'holder': 453, 'discount': 454, 'shop': 455, 'most': 456, 'goods': 457, 'come': 458, 'able': 459, 'list': 460, 'that’s': 461, 'guys': 462, 'check': 463, 'site': 464, 'collab': 465, 'exact': 466, 'sells': 467, 'swap': 468, 'complete': 469, 'cursed': 470, 'lose': 471, '15': 472, \"season's\": 473, 'manufacturer': 474, 'hopefully': 475, 'plain': 476, 'agree': 477, 'friends': 478, 'opener': 479, 'shit': 480, 'gift': 481, 'through': 482, 'snowday': 483, 'deal': 484, 'here': 485, 'pick': 486, 'promo': 487, 'help': 488, '1091365715464966145': 489, '02': 490, 'bot': 491, 'creator': 492, 'reddit': 493, 'announcement': 494, 'announced': 495, 'own': 496, 'soon': 497, '2024': 498, 'landmark': 499, 'hey': 500, 'hoodie': 501, 'real': 502, \"wouldn't\": 503, 'show': 504, 'goes': 505, 'wanted': 506, 'map': 507, 'since': 508, 'guy': 509, 'outstanding': 510, 'emirates': 511, 'public': 512, 'transit': 513, 'main': 514, 'sites': 515, 'stock': 516, 'fans': 517, 'edge': 518, 'fansedge': 519, '30': 520, 'mlsstore': 521, 'z': 522, 'inaccurate': 523, 'fedex': 524, 'expecting': 525, 'arriving': 526, 'cancelled': 527, 'tickets': 528, 'refund': 529, 'might': 530, \"it'd\": 531, 'call': 532, 'park': 533, 'ツ': 534, 'order': 535, '60': 536, 'greedy': 537, 'drop': 538, 'haven’t': 539, 'taken': 540, 'obvious': 541, 'read': 542, '30ish': 543, '5': 544, 'arm': 545, 'patch': 546, 'promoted': 547, 'stopping': 548, 'neat': 549, 'section': 550, 'decent': 551, 'worth': 552, 'admire': 553, 'went': 554, 'everything': 555, 'tip': 556, 'tonight': 557, 'grow': 558, 'socks': 559, 'figure': 560, 'writing': 561, 'side': 562, \"haven't\": 563, 'element': 564, 'lettering': 565, 'pushing': 566, 'addressing': 567, 'fo': 568, 'communications': 569, '“the': 570, 'front': 571, 'inspired': 572, 'architecture': 573, 'details': 574, 'invoke': 575, 'scenery': 576, 'harbor': 577, '”': 578, 'uhhh': 579, 'description': 580, '“it’s': 581, 'up”': 582, 'connection': 583, 'tie': 584, 'bold': 585, 'claim': 586, 'considering': 587, 'stretch': 588, 'drawn': 589, 'suspension': 590, 'cables': 591, 'cross': 592, 'each': 593, 'form': 594, 'photos': 595, 'app': 596, 'goo': 597, 'gl': 598, 'q4t6mp2r6ysxg6jw9': 599, '—': 600, 'conceptual': 601, 'anchor': 602, 'start': 603, 'experiment': 604, 'virtually': 605, 'endless': 606, 'directions': 607, 'infinite': 608, 'ways': 609, 'concept': 610, 'manifests': 611, 'itself': 612, 'visually': 613, 'wack': 614, 'wanna': 615, 'sets': 616, 'online': 617, 'streetwear': 618, 'hmm': 619, 'thought': 620, 'tv': 621, 'taty': 622, 'isy': 623, 'heber': 624, 'scoring': 625, 'weirdly': 626, 'fully': 627, 'being': 628, 'lean': 629, 'imitate': 630, 'older': 631, 'apron': 632, 'ha': 633, \"wasn't\": 634, 'true': 635, 'refuse': 636, 'primary': 637, 'otherwise': 638, 'worse': 639, 'pictures': 640, '90s': 641, 'german': 642, 'vibe': 643, \"we're\": 644, 'basically': 645, 'parley': 646, \"weren't\": 647, 'afraid': 648, 'featuring': 649, 'safe': 650, 'forgettable': 651, 'inclined': 652, \"kit's\": 653, 'case': 654, 'wings': 655, 'ended': 656, 'disgusting': 657, 'sir': 658, 'crumb': 659, 'light': 660, 'sucks': 661, 'whip': 662, 'magnifying': 663, 'glass': 664, 'galaxy’s': 665, 'nearly': 666, 'stinks': 667, 'creative': 668, 'relevant': 669, 'timber': 670, 'portland': 671, 'hmmmm': 672, 'complain': 673, 'seeing': 674, \"it'll\": 675, 'easier': 676, 'distinctive': 677, 'sonic': 678, 'boom': 679, 'whatever': 680, 'vein': 681, 'dare': 682, 'disrespect': 683, 'hypnokit': 684, 'water': 685, 'droplet': 686, 'onion': 687, 'ogre': 688, 'layers': 689, 'stitched': 690, 'outside': 691, 'random': 692, 'diamonds': 693, 'seasons': 694, 'give': 695, 'ccl': 696, 'open': 697, 'plus': 698, 'cause': 699, \"year's\": 700, 'biggest': 701, 'issues': 702, 'amount': 703, 'released': 704, 'reason': 705, 'feels': 706, 'top': 707, 'photo': 708, 'straight': 709, 'pinstripes': 710, 'scotland': 711, 'circa': 712, '1994': 713, 'somewhere': 714, 'star': 715, 'shield': 716, 'arms': 717, 'alright': 718, 'scream': 719, '“private': 720, 'league”': 721, 'hell': 722, 'ugh': 723, 'skipping': 724, 'ooof': 725, 'downward': 726, 'sloping': 727, 'collarbone': 728, 'confusing': 729, 'combination': 730, 'neutral': 731, 'suits': 732, 'hoodies': 733, 'tell': 734, 'screenshot': 735, 'blurry': 736, 'badge': 737, 'video': 738, '1222217780998606855': 739, \"hadn't\": 740, 'tweet': 741, 'somewhat': 742, 'v': 743, 'neck': 744, 'isn’t': 745, 'fucking': 746, 'travel': 747, 'beautiful': 748, 'hopeful': 749, 'it’ll': 750, 'dark': 751, 'seems': 752, 'awkwardly': 753, 'quarter': 754, 'zip': 755, 'hood': 756, 'asking': 757, 'r2d2': 758, 'r2': 759, 'd2': 760, 'secret': 761, 'santa': 762, 'smh': 763, 'appreciation': 764, 'mostly': 765, 'sporting': 766, 'stores': 767, 'shirt’s': 768, 'hats': 769, 'wednesday': 770, 'wouldn’t': 771, 'second': 772, 'half': 773, 'discounts': 774, 'models': 775, 'try': 776, 'lmk': 777, 'interest': 778, 'compiling': 779, 'inquired': 780, 'reach': 781, 'sounds': 782, 'ys': 783, 'swore': 784, 'collection': 785, 'both': 786, 'clubs': 787, 'logos': 788, 'ny': 789, 'state': 790, 'date': 791, 'mistake': 792, 'era’s': 793, 'timbs': 794, 'teaneck': 795, 'slept': 796, 'orden': 797, 'locations': 798, 'walk': 799, '46th': 800, 'street': 801, 'avenue': 802, 'awesome': 803, 'broadway': 804, 'houston': 805, \"modell's\": 806, '👀': 807, 'against': 808, 'crew': 809, '8': 810, '21': 811, 'keep': 812, 'extras': 813, 'cashapp': 814, 'wonderful': 815, 'spare': 816, 'rate': 817, 'night': 818, 'wake': 819, 'set': 820, 'happy': 821, 'meet': 822, 'you’d': 823, 'custom': 824, 'things': 825, \"ain't\": 826, 'touching': 827, \"else's\": 828, 'hands': 829, 'curse': 830, 'mesquitesd18': 831, 'gets': 832, 'shipping': 833, 'copped': 834, 'signing': 835, 'emails': 836, 'makes': 837, 'glad': 838, 'fat': 839, 'imagine': 840, 'mean': 841, 'such': 842, 'twice': 843, 'weather': 844, 'wtf': 845, 'im': 846, 'pair': 847, 'jeezys': 848, '“jeezys”': 849, 'lord': 850, 'smalls': 851, 'usually': 852, 'wears': 853, 'nvm': 854, 'gone': 855, 'guessing': 856, 'restock': 857, 'handful': 858, 'soho': 859, 'variety': 860, 'typically': 861, 'old': 862, 'ten': 863, 'seconds': 864, 'talked': 865, 'numerous': 866, 'rail': 867, 'members': 868, 'dying': 869, 'nobody': 870, 'honest': 871, 'knowledge': 872, 'electronic': 873, 'vibrator': 874, 'sex': 875, 'device': 876, 'understanding': 877, 'brown': 878, 'packaging': 879, 'supposed': 880, 'reference': 881, 'football': 882, 'under': 883, 'dome': 884, 'given': 885, 'once': 886, 'slow': 887, 'finicky': 888, 'job': 889, 'less': 890, 'space': 891, 'truly': 892, 'bottle': 893, 'pirlo’s': 894, 'mail': 895, 'unique': 896, 'define': 897, 'legends': 898, 'champions': 899, 'sths': 900, 'subset': 901, 'hold': 902, 'designated': 903, 'pulled': 904, 'nevermind': 905, 'preview': 906, 'wasnt': 907, 'working': 908, 'click': 909, \"imgur's\": 910, 'appear': 911, 'yep': 912, 'leaving': 913, 'blank': 914, 'quality': 915, 'pops': 916, 'doing': 917, 'anyway': 918, '40': 919, 'difference': 920, 'between': 921, 'regular': 922, 'trim': 923, 'pigeon': 924, 'jocktag': 925, 'flag': 926, 'higher': 927, 'grade': 928, 'material': 929, 'slim': 930, 'luckily': 931, 'worked': 932, 'confused': 933, '120': 934, 'enter': 935, 'isi’s': 936, 'his': 937, 'answer': 938, 'question': 939, 'nation': 940, 'tweeted': 941, 'idea': 942, 'holdup': 943, '01': 944, '16': 945, 'tfw': 946, '”official”': 947, 'reveal': 948, 'unofficial': 949, 'dyvpvc1ucaaoci': 950, 'ab3nqwl': 951, 'dyvpvc0uyaa6kvy': 952, 't8if5io': 953, 'dyvpvdsuyaaqg3y': 954, '1olq7if': 955, 'dyvpvduu8aa': 956, 'pe': 957, 'jd2akgq': 958, 'created': 959, 'contact': 960, 'np': 961, 'compose': 962, 'jasie3k': 963, 'amp': 964, 'subject': 965, 'tweetsincommentsbot': 966, 'github': 967, 'janpetryk': 968, 'donate': 969, 'support': 970, 'author': 971, 'pools': 972, 'c': 973, '80yvgrbq35': 974, 'february': 975, '7th': 976, 'assuming': 977, 'leak': 978, 'maxi': 979, 'along': 980, 'anthem': 981, 'shown': 982, 'they’ve': 983, 'shot': 984, 'videos': 985, 'waiting': 986, 'timing': 987, 'clicked': 988, 'you’re': 989, 'killling': 990, 'step': 991, '17': 992, '18': 993, 'kept': 994, 'accents': 995, 'shoulders': 996, 'license': 997, 'happen': 998, 'smart': 999, 'cuz': 1000, 'renegotiate': 1001, '2026': 1002, 'mlssoccer': 1003, 'post': 1004, '2017': 1005, '08': 1006, 'major': 1007, 'extend': 1008, 'partnership': 1009, 'wide': 1010, 'contracts': 1011, 'trash': 1012, 'keepers': 1013, 'keeper': 1014, 'sending': 1015, 'noticed': 1016, '3rd': 1017, 'cakeday': 1018, 'mlsaces': 1019, 'hug': 1020, 'hi': 1021, 'appreciate': 1022, 'messaged': 1023, \"anyone's\": 1024, 'noticeable': 1025, 'completely': 1026, 'ruined': 1027, 'track': 1028, \"didn't\": 1029, 'instead': 1030, 'garment': 1031, 'needing': 1032, 'crap': 1033, \"nmd's\": 1034, 'brand': 1035, 'languages': 1036, \"they'll\": 1037, 'customize': 1038, 'club': 1039, 'bwp': 1040, 'rb': 1041, 'espn': 1042, '100': 1043, 'whole': 1044, '“official': 1045, 'garment”': 1046, 'nonsense': 1047, 'finds': 1048, 'finally': 1049, 'unveiled': 1050, 'officially': 1051, 'liked': 1052, 'black': 1053, 'daniel': 1054, 'laroche': 1055, 'separate': 1056, 'performance': 1057, 'originals': 1058, 'oriented': 1059, 'mix': 1060, 'comes': 1061, 'absolutely': 1062, 'live': 1063, 'leave': 1064, 'weirdest': 1065, 'matarita': 1066, 'claiming': 1067, 'he': 1068, 'constantly': 1069, 'destress': 1070, 'watch': 1071, 'literally': 1072, 'referred': 1073, 'apple': 1074, 'subway': 1075, \"could've\": 1076, 'done': 1077, 'currently': 1078, 'dissrespek': 1079, 'props': 1080, 'knowing': 1081, 'vignelli': 1082, 'work': 1083, 'art': 1084, 'vomited': 1085, 'heard': 1086, 'important': 1087, 'personally': 1088, 'behance': 1089, 'net': 1090, 'gallery': 1091, '74270757': 1092, 'x': 1093, 'edition': 1094, 'dope': 1095, 'ass': 1096, 'specific': 1097, 'let’s': 1098, 'train': 1099, 'graffiti': 1100, 'five': 1101, 'points': 1102, 'mural': 1103, 'shame': 1104, 'won’t': 1105, 'used': 1106, 'games': 1107, 'proper': 1108, 'etihad': 1109, 'unless': 1110, 'merge': 1111, 'explains': 1112, 'entire': 1113, 'producer': 1114, 'weird': 1115, 'amazingly': 1116, 'fake': 1117, 'fresh': 1118, 'clean': 1119, 'insanely': 1120, 'touristy': 1121, 'earth': 1122, 'rare': 1123, 'universally': 1124, 'recognized': 1125, 'trains': 1126, \"who's\": 1127, 'lived': 1128, 'another': 1129, 'rely': 1130, 'attest': 1131, 'useful': 1132, 'transfer': 1133, 'hub': 1134, 'crowded': 1135, 'kind': 1136, 'annoying': 1137, 'system': 1138, 'lines': 1139, 'converge': 1140, 'downtown': 1141, 'merch': 1142, 'gross': 1143, 'emirati': 1144, 'company': 1145, 'across': 1146, 'chest': 1147, 'loved': 1148, 'sri': 1149, 'lanka': 1150, 'horror': 1151, 'stories': 1152, 'south': 1153, 'asians': 1154, 'living': 1155, 'effective': 1156, 'slavery': 1157, 'permanently': 1158, 'put': 1159, 'knows': 1160, 'sales': 1161, 'regularly': 1162, 'right': 1163, 'paid': 1164, 'believe': 1165, 'find': 1166, 'item': 1167, 'websites': 1168, 'example': 1169, '2106597': 1170, 'mens': 1171, '46349928834330': 1172, '74': 1173, '2534651172': 1174, 'o': 1175, '4600': 1176, '69560243': 1177, '80563340993': 1178, '9': 1179, '3250900909': 1180, 'days': 1181, 'grey': 1182, 'type': 1183, 'thread': 1184, 'allowed': 1185, 'delete': 1186, \"jersey's\": 1187, 'gray': 1188, '59': 1189, '49': 1190, 'ends': 1191, 'seriously': 1192, '“players': 1193, 'version”': 1194, 'dhgate': 1195, '20': 1196, 'dollars': 1197}\n"
     ]
    }
   ],
   "source": [
    "from tensorflow.keras.preprocessing import text\n",
    "\n",
    "tokenizer = text.Tokenizer(num_words=1000)\n",
    "tokenizer.fit_on_texts(cleaned_text)\n",
    "print(tokenizer.word_index)\n",
    "tokenized_data = tokenizer.texts_to_matrix(cleaned_text)"
   ]
  },
  {
   "cell_type": "code",
   "execution_count": null,
   "metadata": {
    "colab": {
     "base_uri": "https://localhost:8080/",
     "height": 359
    },
    "colab_type": "code",
    "id": "mmd-YAEYZlX-",
    "outputId": "28b19712-4a47-4903-fafc-2ee7f1a34892"
   },
   "outputs": [
    {
     "data": {
      "text/html": [
       "<div>\n",
       "<style scoped>\n",
       "    .dataframe tbody tr th:only-of-type {\n",
       "        vertical-align: middle;\n",
       "    }\n",
       "\n",
       "    .dataframe tbody tr th {\n",
       "        vertical-align: top;\n",
       "    }\n",
       "\n",
       "    .dataframe thead th {\n",
       "        text-align: right;\n",
       "    }\n",
       "</style>\n",
       "<table border=\"1\" class=\"dataframe\">\n",
       "  <thead>\n",
       "    <tr style=\"text-align: right;\">\n",
       "      <th></th>\n",
       "      <th>Words</th>\n",
       "      <th>Count</th>\n",
       "    </tr>\n",
       "  </thead>\n",
       "  <tbody>\n",
       "    <tr>\n",
       "      <th>0</th>\n",
       "      <td>adidas</td>\n",
       "      <td>31</td>\n",
       "    </tr>\n",
       "    <tr>\n",
       "      <th>7</th>\n",
       "      <td>like</td>\n",
       "      <td>30</td>\n",
       "    </tr>\n",
       "    <tr>\n",
       "      <th>1</th>\n",
       "      <td>com</td>\n",
       "      <td>28</td>\n",
       "    </tr>\n",
       "    <tr>\n",
       "      <th>6</th>\n",
       "      <td>kit</td>\n",
       "      <td>28</td>\n",
       "    </tr>\n",
       "    <tr>\n",
       "      <th>3</th>\n",
       "      <td>https</td>\n",
       "      <td>24</td>\n",
       "    </tr>\n",
       "    <tr>\n",
       "      <th>2</th>\n",
       "      <td>don</td>\n",
       "      <td>19</td>\n",
       "    </tr>\n",
       "    <tr>\n",
       "      <th>4</th>\n",
       "      <td>jersey</td>\n",
       "      <td>19</td>\n",
       "    </tr>\n",
       "    <tr>\n",
       "      <th>9</th>\n",
       "      <td>new</td>\n",
       "      <td>19</td>\n",
       "    </tr>\n",
       "    <tr>\n",
       "      <th>5</th>\n",
       "      <td>just</td>\n",
       "      <td>17</td>\n",
       "    </tr>\n",
       "    <tr>\n",
       "      <th>8</th>\n",
       "      <td>looking</td>\n",
       "      <td>16</td>\n",
       "    </tr>\n",
       "  </tbody>\n",
       "</table>\n",
       "</div>"
      ],
      "text/plain": [
       "     Words Count\n",
       "0   adidas    31\n",
       "7     like    30\n",
       "1      com    28\n",
       "6      kit    28\n",
       "3    https    24\n",
       "2      don    19\n",
       "4   jersey    19\n",
       "9      new    19\n",
       "5     just    17\n",
       "8  looking    16"
      ]
     },
     "execution_count": 36,
     "metadata": {
      "tags": []
     },
     "output_type": "execute_result"
    }
   ],
   "source": [
    "word_counts"
   ]
  },
  {
   "cell_type": "code",
   "execution_count": null,
   "metadata": {
    "colab": {},
    "colab_type": "code",
    "id": "2-YJdyg_ZnF3"
   },
   "outputs": [],
   "source": [
    "MAX_LEN = 1000\n",
    "\n",
    "input_data = tf.keras.preprocessing.sequence.pad_sequences(tokenized_data, maxlen=MAX_LEN)\n",
    "\n",
    "sentiment_prediction = model.predict(input_data)"
   ]
  },
  {
   "cell_type": "code",
   "execution_count": null,
   "metadata": {
    "colab": {},
    "colab_type": "code",
    "id": "2yASrMOqZvrl"
   },
   "outputs": [],
   "source": [
    "predictions = [np.argsort(i)[-1] for i in sentiment_prediction]\n",
    "classes = {0: 'Neutral', 1: 'Positive', 2: 'Negative'}\n",
    "\n",
    "class_predictions = [classes[prediction] for prediction in predictions]"
   ]
  },
  {
   "cell_type": "code",
   "execution_count": null,
   "metadata": {
    "colab": {},
    "colab_type": "code",
    "id": "uXMp8nlUbIdq"
   },
   "outputs": [],
   "source": [
    "new_df['sentiment'] = class_predictions"
   ]
  },
  {
   "cell_type": "code",
   "execution_count": null,
   "metadata": {
    "colab": {},
    "colab_type": "code",
    "id": "rR4S8ewWtL7a"
   },
   "outputs": [],
   "source": [
    "thread_id = [i for i in range(len(df['post_title'].unique()))]\n",
    "\n",
    "d = {}\n",
    "for i in thread_id:\n",
    "  d[df['post_title'].unique()[i]] = i"
   ]
  },
  {
   "cell_type": "code",
   "execution_count": null,
   "metadata": {
    "colab": {},
    "colab_type": "code",
    "id": "yqHQtIOZt5vJ"
   },
   "outputs": [],
   "source": [
    "df['thread_id'] = df['post_title'].map(d)"
   ]
  },
  {
   "cell_type": "code",
   "execution_count": null,
   "metadata": {
    "colab": {
     "base_uri": "https://localhost:8080/",
     "height": 514
    },
    "colab_type": "code",
    "id": "OxD0lTH1e8_u",
    "outputId": "beeef809-f4ae-4d9b-90e1-d04663ff0500"
   },
   "outputs": [
    {
     "data": {
      "image/png": "[encoded data removed]",
      "text/plain": [
       "<Figure size 1440x576 with 1 Axes>"
      ]
     },
     "metadata": {
      "tags": []
     },
     "output_type": "display_data"
    }
   ],
   "source": [
    "import seaborn as sns\n",
    "sns.set_style('darkgrid')\n",
    "\n",
    "plot_x = list(range(len(new_df.index.get_level_values(0).unique())))\n",
    "\n",
    "plt.figure(figsize=(20, 8))\n",
    "g = sns.countplot(x=df['thread_id'], hue='sentiment', data=df)\n",
    "plt.title('Sentiment Counts per Thread')\n",
    "plt.show()"
   ]
  },
  {
   "cell_type": "code",
   "execution_count": null,
   "metadata": {
    "colab": {
     "base_uri": "https://localhost:8080/",
     "height": 419
    },
    "colab_type": "code",
    "id": "ZoSOJ4stuZi_",
    "outputId": "cf29d81a-ce78-4b17-8bb4-92d1f06db08b"
   },
   "outputs": [
    {
     "data": {
      "text/html": [
       "<div>\n",
       "<style scoped>\n",
       "    .dataframe tbody tr th:only-of-type {\n",
       "        vertical-align: middle;\n",
       "    }\n",
       "\n",
       "    .dataframe tbody tr th {\n",
       "        vertical-align: top;\n",
       "    }\n",
       "\n",
       "    .dataframe thead th {\n",
       "        text-align: right;\n",
       "    }\n",
       "</style>\n",
       "<table border=\"1\" class=\"dataframe\">\n",
       "  <thead>\n",
       "    <tr style=\"text-align: right;\">\n",
       "      <th></th>\n",
       "      <th>post_title</th>\n",
       "      <th>comments</th>\n",
       "      <th>date_time</th>\n",
       "      <th>comment_type</th>\n",
       "      <th>sentiment</th>\n",
       "      <th>thread_id</th>\n",
       "    </tr>\n",
       "  </thead>\n",
       "  <tbody>\n",
       "    <tr>\n",
       "      <th>57</th>\n",
       "      <td>Leaked Away Kit</td>\n",
       "      <td>So we're basically getting a parley jersey as ...</td>\n",
       "      <td>2020-01-29 17:20:53</td>\n",
       "      <td>jersey</td>\n",
       "      <td>Positive</td>\n",
       "      <td>6</td>\n",
       "    </tr>\n",
       "    <tr>\n",
       "      <th>58</th>\n",
       "      <td>Leaked Away Kit</td>\n",
       "      <td>Is boring and safe. Is forgettable</td>\n",
       "      <td>2020-01-29 21:44:34</td>\n",
       "      <td>NaN</td>\n",
       "      <td>Neutral</td>\n",
       "      <td>6</td>\n",
       "    </tr>\n",
       "    <tr>\n",
       "      <th>59</th>\n",
       "      <td>Leaked Away Kit</td>\n",
       "      <td>I need to see it on a person. I'm inclined to ...</td>\n",
       "      <td>2020-01-29 17:51:38</td>\n",
       "      <td>NaN</td>\n",
       "      <td>Positive</td>\n",
       "      <td>6</td>\n",
       "    </tr>\n",
       "    <tr>\n",
       "      <th>60</th>\n",
       "      <td>Leaked Away Kit</td>\n",
       "      <td>I think that was the case last change kit with...</td>\n",
       "      <td>2020-01-29 23:59:42</td>\n",
       "      <td>NaN</td>\n",
       "      <td>Positive</td>\n",
       "      <td>6</td>\n",
       "    </tr>\n",
       "    <tr>\n",
       "      <th>61</th>\n",
       "      <td>Leaked Away Kit</td>\n",
       "      <td>please sir, may we have a crumb of orange</td>\n",
       "      <td>2020-01-29 18:14:31</td>\n",
       "      <td>NaN</td>\n",
       "      <td>Negative</td>\n",
       "      <td>6</td>\n",
       "    </tr>\n",
       "    <tr>\n",
       "      <th>...</th>\n",
       "      <td>...</td>\n",
       "      <td>...</td>\n",
       "      <td>...</td>\n",
       "      <td>...</td>\n",
       "      <td>...</td>\n",
       "      <td>...</td>\n",
       "    </tr>\n",
       "    <tr>\n",
       "      <th>164</th>\n",
       "      <td>Pin Swaps</td>\n",
       "      <td>Looking for a Bronx Pin, have a spare Manhatta...</td>\n",
       "      <td>2019-08-13 22:02:14</td>\n",
       "      <td>NaN</td>\n",
       "      <td>Positive</td>\n",
       "      <td>16</td>\n",
       "    </tr>\n",
       "    <tr>\n",
       "      <th>165</th>\n",
       "      <td>Pin Swaps</td>\n",
       "      <td>Any one have an extra Staten Island pin?</td>\n",
       "      <td>2019-08-19 23:07:05</td>\n",
       "      <td>NaN</td>\n",
       "      <td>Neutral</td>\n",
       "      <td>16</td>\n",
       "    </tr>\n",
       "    <tr>\n",
       "      <th>166</th>\n",
       "      <td>Pin Swaps</td>\n",
       "      <td>Got Queens, Staten Island, or Manhattan for a ...</td>\n",
       "      <td>2019-08-22 02:31:57</td>\n",
       "      <td>NaN</td>\n",
       "      <td>Positive</td>\n",
       "      <td>16</td>\n",
       "    </tr>\n",
       "    <tr>\n",
       "      <th>167</th>\n",
       "      <td>Pin Swaps</td>\n",
       "      <td>Looking for a Queens pin. Willing to trade for...</td>\n",
       "      <td>2019-08-22 05:32:40</td>\n",
       "      <td>NaN</td>\n",
       "      <td>Positive</td>\n",
       "      <td>16</td>\n",
       "    </tr>\n",
       "    <tr>\n",
       "      <th>168</th>\n",
       "      <td>Pin Swaps</td>\n",
       "      <td>What's the going rate on a Brooklyn pin? I cou...</td>\n",
       "      <td>2019-08-24 20:21:44</td>\n",
       "      <td>NaN</td>\n",
       "      <td>Positive</td>\n",
       "      <td>16</td>\n",
       "    </tr>\n",
       "  </tbody>\n",
       "</table>\n",
       "<p>68 rows × 6 columns</p>\n",
       "</div>"
      ],
      "text/plain": [
       "          post_title  ... thread_id\n",
       "57   Leaked Away Kit  ...         6\n",
       "58   Leaked Away Kit  ...         6\n",
       "59   Leaked Away Kit  ...         6\n",
       "60   Leaked Away Kit  ...         6\n",
       "61   Leaked Away Kit  ...         6\n",
       "..               ...  ...       ...\n",
       "164        Pin Swaps  ...        16\n",
       "165        Pin Swaps  ...        16\n",
       "166        Pin Swaps  ...        16\n",
       "167        Pin Swaps  ...        16\n",
       "168        Pin Swaps  ...        16\n",
       "\n",
       "[68 rows x 6 columns]"
      ]
     },
     "execution_count": 59,
     "metadata": {
      "tags": []
     },
     "output_type": "execute_result"
    }
   ],
   "source": [
    "df[(df['thread_id'] == 6) | (df['thread_id'] == 16)]"
   ]
  },
  {
   "cell_type": "markdown",
   "metadata": {
    "colab_type": "text",
    "id": "CEPBk0yyunpO"
   },
   "source": [
    "So from the analysis above it looks like people are speaking positively of the leaked away kit, and of the pins. It looks like they enjoy swapping pins with each other. Maybe that's something that can be built upon, for example maybe the club can make a number of different exclusive pins, or hold events where people can trade exclusive pins with each other as a promotional tool."
   ]
  },
  {
   "cell_type": "code",
   "execution_count": null,
   "metadata": {
    "colab": {
     "base_uri": "https://localhost:8080/",
     "height": 35
    },
    "colab_type": "code",
    "id": "QYUTrh_1jotM",
    "outputId": "5f279050-d11d-4483-dbd6-cd7d1e2ff782"
   },
   "outputs": [
    {
     "data": {
      "application/vnd.google.colaboratory.intrinsic+json": {
       "type": "string"
      },
      "text/plain": [
       "'Feel like I’m actually going to enjoy our version of this template.'"
      ]
     },
     "execution_count": 50,
     "metadata": {
      "tags": []
     },
     "output_type": "execute_result"
    }
   ],
   "source": [
    "df.comments[101]"
   ]
  },
  {
   "cell_type": "code",
   "execution_count": null,
   "metadata": {
    "colab": {
     "base_uri": "https://localhost:8080/",
     "height": 35
    },
    "colab_type": "code",
    "id": "6ZF0YLHYkCRJ",
    "outputId": "e3422bbd-0c73-476c-9227-012a197e46b3"
   },
   "outputs": [
    {
     "data": {
      "application/vnd.google.colaboratory.intrinsic+json": {
       "type": "string"
      },
      "text/plain": [
       "'Positive'"
      ]
     },
     "execution_count": 49,
     "metadata": {
      "tags": []
     },
     "output_type": "execute_result"
    }
   ],
   "source": [
    "df.sentiment[101]"
   ]
  }
 ],
 "metadata": {
  "colab": {
   "collapsed_sections": [],
   "name": "NYCFC_Sentiment_Analysis_Model.ipynb",
   "provenance": []
  },
  "kernelspec": {
   "display_name": "Python 3",
   "language": "python",
   "name": "python3"
  },
  "language_info": {
   "codemirror_mode": {
    "name": "ipython",
    "version": 3
   },
   "file_extension": ".py",
   "mimetype": "text/x-python",
   "name": "python",
   "nbconvert_exporter": "python",
   "pygments_lexer": "ipython3",
   "version": "3.8.0"
  }
 },
 "nbformat": 4,
 "nbformat_minor": 1
}
